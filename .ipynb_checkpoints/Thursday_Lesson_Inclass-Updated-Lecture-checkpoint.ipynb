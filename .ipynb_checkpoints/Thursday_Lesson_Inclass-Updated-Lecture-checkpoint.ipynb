{
 "cells": [
  {
   "cell_type": "markdown",
   "metadata": {},
   "source": [
    "# Object-Oriented-Programming (OOP)"
   ]
  },
  {
   "cell_type": "markdown",
   "metadata": {},
   "source": [
    "## Tasks Today:\n",
    "\n",
    "   \n",
    "\n",
    "1) <b>Creating a Class (Initializing/Declaring)</b> <br>\n",
    "2) <b>Using a Class (Instantiating)</b> <br>\n",
    " &nbsp;&nbsp;&nbsp;&nbsp; a) Creating One Instance <br>\n",
    " &nbsp;&nbsp;&nbsp;&nbsp; b) Creating Multiple Instances <br>\n",
    " &nbsp;&nbsp;&nbsp;&nbsp; c) In-Class Exercise #1 - Create a Class 'Car' and instantiate three different makes of cars <br>\n",
    "3) <b>The \\__init\\__() Method</b> <br>\n",
    " &nbsp;&nbsp;&nbsp;&nbsp; a) The 'self' Attribute <br>\n",
    "4) <b>Class Attributes</b> <br>\n",
    " &nbsp;&nbsp;&nbsp;&nbsp; a) Initializing Attributes <br>\n",
    " &nbsp;&nbsp;&nbsp;&nbsp; b) Setting an Attribute Outside of the \\__init\\__() Method <br>\n",
    " &nbsp;&nbsp;&nbsp;&nbsp; c) Setting Defaults for Attributes <br>\n",
    " &nbsp;&nbsp;&nbsp;&nbsp; d) Accessing Class Attributes <br>\n",
    " &nbsp;&nbsp;&nbsp;&nbsp; e) Changing Class Attributes <br>\n",
    " &nbsp;&nbsp;&nbsp;&nbsp; f) In-Class Exercise #2 - Add a color and wheels attribute to your 'Car' class <br>\n",
    "5) <b>Class Methods</b> <br>\n",
    " &nbsp;&nbsp;&nbsp;&nbsp; a) Creating <br>\n",
    " &nbsp;&nbsp;&nbsp;&nbsp; b) Calling <br>\n",
    " &nbsp;&nbsp;&nbsp;&nbsp; c) Modifying an Attribute's Value Through a Method <br>\n",
    " &nbsp;&nbsp;&nbsp;&nbsp; d) Incrementing an Attribute's Value Through a Method <br>\n",
    " &nbsp;&nbsp;&nbsp;&nbsp; e) In-Class Exercise #3 - Add a method that prints the cars color and wheel number, then call them <br>\n",
    "6) <b>Inheritance</b> <br>\n",
    " &nbsp;&nbsp;&nbsp;&nbsp; a) Syntax for Inheriting from a Parent Class <br>\n",
    " &nbsp;&nbsp;&nbsp;&nbsp; b) The \\__init\\__() Method for a Child Class (super()) <br>\n",
    " &nbsp;&nbsp;&nbsp;&nbsp; c) Defining Attributes and Methods for the Child Class <br>\n",
    " &nbsp;&nbsp;&nbsp;&nbsp; d) Method Overriding <br>\n",
    " &nbsp;&nbsp;&nbsp;&nbsp; e) In-Class Exercise #4 - Create a class 'Ford' that inherits from 'Car' class and initialize it as a Blue Ford Explorer with 4 wheels using the super() method <br>\n",
    "7) <b>Classes as Attributes</b> <br>\n",
    "8) <b>Exercises</b> <br>\n",
    " &nbsp;&nbsp;&nbsp;&nbsp; a) Exercise #1 - Turn the shopping cart program from yesterday into an object-oriented program <br>"
   ]
  },
  {
   "cell_type": "code",
   "execution_count": 5,
   "metadata": {},
   "outputs": [
    {
     "name": "stdout",
     "output_type": "stream",
     "text": [
      "Here is your cart...\n"
     ]
    }
   ],
   "source": [
    "from IPython.display import clear_output\n",
    "\n",
    "cart = []\n",
    "\n",
    "# Add to cart function\n",
    "def addItem(item):\n",
    "    clear_output()\n",
    "    cart.append(item)\n",
    "\n",
    "# Remove cart\n",
    "def RemoveItem(item):\n",
    "    clear_output()\n",
    "    cart.remove(item)\n",
    "#Show cart\n",
    "def showCart():\n",
    "    clear_output()\n",
    "    print(\"Here is your cart...\")\n",
    "    for item in cart:\n",
    "        print(item)\n",
    "        \n",
    "def clearCart():\n",
    "    clear_output()\n",
    "    print(\"Your cart is now empty...\")\n",
    "    cart.clear()\n",
    "    \n",
    "def shoppingCart():\n",
    "    while True:\n",
    "        response = input(\"You can: quit / add / remove / show / or clear\")\n",
    "        if response.lower() == 'quit':\n",
    "            print('thanks for shopping! Here is your cart')\n",
    "            showCart()\n",
    "            break\n",
    "        elif response.lower() == 'add':\n",
    "            item = input('What would you like to add?')\n",
    "            addItem(item)\n",
    "        elif response.lower() == 'remove':\n",
    "            showCart()\n",
    "            item = input('What do you wanna remove?')\n",
    "            removeItem(item)\n",
    "        elif response.lower() == 'show':\n",
    "            showCart()\n",
    "        elif response.lower == 'clear':\n",
    "            clearCart()\n",
    "        else:\n",
    "            print('Sorry, not a valid response')\n",
    "            \n",
    "shoppingCart()"
   ]
  },
  {
   "cell_type": "code",
   "execution_count": null,
   "metadata": {},
   "outputs": [],
   "source": [
    "# Circumfrance of a cirle\n"
   ]
  },
  {
   "cell_type": "markdown",
   "metadata": {},
   "source": [
    "## Creating a Class (Initializing/Declaring)\n",
    "<p>When creating a class, function, or even a variable you are initializing that object. Initializing and Declaring occur at the same time in Python, whereas in lower level languages you have to declare an object before initializing it. This is the first step in the process of using a class.</p>"
   ]
  },
  {
   "cell_type": "code",
   "execution_count": 8,
   "metadata": {},
   "outputs": [],
   "source": [
    "class car():\n",
    "    wheels = 4\n",
    "    color = 'Blue'"
   ]
  },
  {
   "cell_type": "markdown",
   "metadata": {},
   "source": [
    "## Using a Class (Instantiating)\n",
    "<p>The process of creating a class is called <i>Instantiating</i>. Each time you create a variable of that type of class, it is referred to as an <i>Instance</i> of that class. This is the second step in the process of using a class.</p>"
   ]
  },
  {
   "cell_type": "markdown",
   "metadata": {},
   "source": [
    "##### Creating One Instance"
   ]
  },
  {
   "cell_type": "code",
   "execution_count": 9,
   "metadata": {},
   "outputs": [
    {
     "data": {
      "text/plain": [
       "4"
      ]
     },
     "execution_count": 9,
     "metadata": {},
     "output_type": "execute_result"
    }
   ],
   "source": [
    "ford = car()\n",
    "ford.wheels\n"
   ]
  },
  {
   "cell_type": "markdown",
   "metadata": {},
   "source": [
    "##### Creating Multiple Instances"
   ]
  },
  {
   "cell_type": "code",
   "execution_count": 10,
   "metadata": {},
   "outputs": [
    {
     "data": {
      "text/plain": [
       "'Blue'"
      ]
     },
     "execution_count": 10,
     "metadata": {},
     "output_type": "execute_result"
    }
   ],
   "source": [
    "chevy = car()\n",
    "honda = car()\n",
    "porsche = car()\n",
    "\n",
    "porsche.color\n"
   ]
  },
  {
   "cell_type": "markdown",
   "metadata": {},
   "source": [
    "##### In-Class Exercise #1 - Create a Class 'Car' and Instantiate three different makes of cars"
   ]
  },
  {
   "cell_type": "code",
   "execution_count": 13,
   "metadata": {},
   "outputs": [
    {
     "data": {
      "text/plain": [
       "False"
      ]
     },
     "execution_count": 13,
     "metadata": {},
     "output_type": "execute_result"
    }
   ],
   "source": [
    "class car():\n",
    "    doors = 2\n",
    "    color = 'white'\n",
    "    wheels = 4\n",
    "    sunroof = False\n",
    "\n",
    "bmw = car()\n",
    "audi = car()\n",
    "volkswagen = car()\n",
    "\n",
    "bmw.sunroof"
   ]
  },
  {
   "cell_type": "markdown",
   "metadata": {},
   "source": [
    "## The \\__init\\__() Method <br>\n",
    "<p>This method is used in almost every created class, and called only once upon the creation of the class instance. This method will initialize all variables needed for the object.</p>"
   ]
  },
  {
   "cell_type": "code",
   "execution_count": 24,
   "metadata": {},
   "outputs": [
    {
     "data": {
      "text/plain": [
       "1"
      ]
     },
     "execution_count": 24,
     "metadata": {},
     "output_type": "execute_result"
    }
   ],
   "source": [
    "# double underscore or 'dunder'\n",
    "\n",
    "class Toy():\n",
    "    kind = 'Car'\n",
    "    \n",
    "    def __init__(self,rooftop,horn,wheels):\n",
    "        self.rooftop = rooftop\n",
    "        self.horn = horn\n",
    "        self.wheels = wheels\n",
    "\n",
    "hotwheels_car = Toy(1,1,3)\n",
    "\n",
    "hotwheels_car.rooftop"
   ]
  },
  {
   "cell_type": "markdown",
   "metadata": {},
   "source": [
    "##### The 'self' Attribute <br>\n",
    "<p>This attribute is required to keep track of specific instance's attributes. Without the self attribute, the program would not know how to reference or keep track of an instance's attributes.</p>"
   ]
  },
  {
   "cell_type": "code",
   "execution_count": null,
   "metadata": {},
   "outputs": [],
   "source": [
    "# see above\n"
   ]
  },
  {
   "cell_type": "markdown",
   "metadata": {},
   "source": [
    "## Class Attributes <br>\n",
    "<p>While variables are inside of a class, they are referred to as attributes and not variables. When someone says 'attribute' you know they're speaking about a class. Attributes can be initialized through the init method, or outside of it.</p>"
   ]
  },
  {
   "cell_type": "markdown",
   "metadata": {},
   "source": [
    "##### Initializing Attributes"
   ]
  },
  {
   "cell_type": "code",
   "execution_count": 37,
   "metadata": {},
   "outputs": [],
   "source": [
    "# see above\n",
    "tonka_truck = Toy(2,1,4) #2 rooftop, 1 horn, 4 wheels\n",
    "\n",
    "\n"
   ]
  },
  {
   "cell_type": "markdown",
   "metadata": {},
   "source": [
    "##### Accessing Class Attributes"
   ]
  },
  {
   "cell_type": "code",
   "execution_count": 30,
   "metadata": {
    "scrolled": true
   },
   "outputs": [
    {
     "data": {
      "text/plain": [
       "2"
      ]
     },
     "execution_count": 30,
     "metadata": {},
     "output_type": "execute_result"
    }
   ],
   "source": [
    "# See Above\n",
    "tonka_truck.rooftop"
   ]
  },
  {
   "cell_type": "markdown",
   "metadata": {},
   "source": [
    "##### Setting Defaults for Attributes"
   ]
  },
  {
   "cell_type": "code",
   "execution_count": 43,
   "metadata": {},
   "outputs": [
    {
     "name": "stdout",
     "output_type": "stream",
     "text": [
      "How much do you weigh?225\n"
     ]
    },
    {
     "data": {
      "text/plain": [
       "'6ft 1in'"
      ]
     },
     "execution_count": 43,
     "metadata": {},
     "output_type": "execute_result"
    }
   ],
   "source": [
    "class Human():\n",
    "    def __init__(self,walking,height,weight,talk=True,eyes='brown'):\n",
    "        self.walking = walking\n",
    "        self.height = height\n",
    "        self.weight = weight\n",
    "        self.talk = talk\n",
    "        self.eyes = eyes\n",
    "weight = input('How much do you weigh?')\n",
    "\n",
    "nate = Human(True,\"6ft 1in\", weight)\n",
    "\n",
    "nate.height"
   ]
  },
  {
   "cell_type": "markdown",
   "metadata": {},
   "source": [
    "##### Changing Class Attributes <br>\n",
    "<p>Keep in mind there are global class attributes and then there are attributes only available to each class instance which won't effect other classes.</p>"
   ]
  },
  {
   "cell_type": "code",
   "execution_count": 41,
   "metadata": {},
   "outputs": [
    {
     "data": {
      "text/plain": [
       "'Truck'"
      ]
     },
     "execution_count": 41,
     "metadata": {},
     "output_type": "execute_result"
    }
   ],
   "source": [
    "tonka_truck.kind\n",
    "\n",
    "tonka_truck.kind = 'Truck'\n",
    "tonka_truck.kind\n"
   ]
  },
  {
   "cell_type": "code",
   "execution_count": 45,
   "metadata": {},
   "outputs": [
    {
     "name": "stdout",
     "output_type": "stream",
     "text": [
      "225\n",
      "After the diet:  199\n"
     ]
    }
   ],
   "source": [
    "print(nate.weight)\n",
    "nate.weight = 199\n",
    "\n",
    "print(\"After the diet: \", nate.weight)"
   ]
  },
  {
   "cell_type": "markdown",
   "metadata": {},
   "source": [
    "##### In-Class Exercise #2 - Add a doors and seats attribute to your 'Car' class then print out two different instances with different doors and seats"
   ]
  },
  {
   "cell_type": "code",
   "execution_count": 53,
   "metadata": {},
   "outputs": [
    {
     "name": "stdout",
     "output_type": "stream",
     "text": [
      "2\n",
      "4\n"
     ]
    }
   ],
   "source": [
    "class Car():\n",
    "    color = 'white'\n",
    "    wheels = 4\n",
    "    sunroof = False\n",
    "    def __init__(self,doors,seats):\n",
    "        self.doors = doors\n",
    "        self.seats = seats\n",
    "        \n",
    "h_crv = Car(4,4)\n",
    "t_roadster = Car(2,3)\n",
    "\n",
    "print(t_roadster.doors)\n",
    "print(h_crv.doors)"
   ]
  },
  {
   "cell_type": "markdown",
   "metadata": {},
   "source": [
    "## Class Methods <br>\n",
    "<p>While inside of a class, functions are referred to as 'methods'. If you hear someone mention methods, they're speaking about classes. Methods are essentially functions, but only callable on the instances of a class.</p>"
   ]
  },
  {
   "cell_type": "markdown",
   "metadata": {},
   "source": [
    "##### Creating"
   ]
  },
  {
   "cell_type": "code",
   "execution_count": 83,
   "metadata": {},
   "outputs": [
    {
     "name": "stdout",
     "output_type": "stream",
     "text": [
      "What do you want to do? Add/Show or QUit?add\n",
      "what do you wanna add?banana\n",
      "What do you want to do? Add/Show or QUit?add\n",
      "what do you wanna add?banana\n",
      "What do you want to do? Add/Show or QUit?add\n",
      "what do you wanna add?banana\n",
      "What do you want to do? Add/Show or QUit?show\n",
      "You have items in your bag!\n",
      "banana\n",
      "banana\n",
      "banana\n",
      "What do you want to do? Add/Show or QUit?delete\n",
      "What do you want to do? Add/Show or QUit?add\n",
      "what do you wanna add?bread\n",
      "What do you want to do? Add/Show or QUit?show\n",
      "You have items in your bag!\n",
      "banana\n",
      "banana\n",
      "banana\n",
      "bread\n"
     ]
    },
    {
     "ename": "KeyboardInterrupt",
     "evalue": "",
     "output_type": "error",
     "traceback": [
      "\u001b[0;31m---------------------------------------------------------------------------\u001b[0m",
      "\u001b[0;31mKeyboardInterrupt\u001b[0m                         Traceback (most recent call last)",
      "\u001b[0;32m/opt/anaconda3/lib/python3.7/site-packages/ipykernel/kernelbase.py\u001b[0m in \u001b[0;36m_input_request\u001b[0;34m(self, prompt, ident, parent, password)\u001b[0m\n\u001b[1;32m    883\u001b[0m             \u001b[0;32mtry\u001b[0m\u001b[0;34m:\u001b[0m\u001b[0;34m\u001b[0m\u001b[0;34m\u001b[0m\u001b[0m\n\u001b[0;32m--> 884\u001b[0;31m                 \u001b[0mident\u001b[0m\u001b[0;34m,\u001b[0m \u001b[0mreply\u001b[0m \u001b[0;34m=\u001b[0m \u001b[0mself\u001b[0m\u001b[0;34m.\u001b[0m\u001b[0msession\u001b[0m\u001b[0;34m.\u001b[0m\u001b[0mrecv\u001b[0m\u001b[0;34m(\u001b[0m\u001b[0mself\u001b[0m\u001b[0;34m.\u001b[0m\u001b[0mstdin_socket\u001b[0m\u001b[0;34m,\u001b[0m \u001b[0;36m0\u001b[0m\u001b[0;34m)\u001b[0m\u001b[0;34m\u001b[0m\u001b[0;34m\u001b[0m\u001b[0m\n\u001b[0m\u001b[1;32m    885\u001b[0m             \u001b[0;32mexcept\u001b[0m \u001b[0mException\u001b[0m\u001b[0;34m:\u001b[0m\u001b[0;34m\u001b[0m\u001b[0;34m\u001b[0m\u001b[0m\n",
      "\u001b[0;32m/opt/anaconda3/lib/python3.7/site-packages/jupyter_client/session.py\u001b[0m in \u001b[0;36mrecv\u001b[0;34m(self, socket, mode, content, copy)\u001b[0m\n\u001b[1;32m    802\u001b[0m         \u001b[0;32mtry\u001b[0m\u001b[0;34m:\u001b[0m\u001b[0;34m\u001b[0m\u001b[0;34m\u001b[0m\u001b[0m\n\u001b[0;32m--> 803\u001b[0;31m             \u001b[0mmsg_list\u001b[0m \u001b[0;34m=\u001b[0m \u001b[0msocket\u001b[0m\u001b[0;34m.\u001b[0m\u001b[0mrecv_multipart\u001b[0m\u001b[0;34m(\u001b[0m\u001b[0mmode\u001b[0m\u001b[0;34m,\u001b[0m \u001b[0mcopy\u001b[0m\u001b[0;34m=\u001b[0m\u001b[0mcopy\u001b[0m\u001b[0;34m)\u001b[0m\u001b[0;34m\u001b[0m\u001b[0;34m\u001b[0m\u001b[0m\n\u001b[0m\u001b[1;32m    804\u001b[0m         \u001b[0;32mexcept\u001b[0m \u001b[0mzmq\u001b[0m\u001b[0;34m.\u001b[0m\u001b[0mZMQError\u001b[0m \u001b[0;32mas\u001b[0m \u001b[0me\u001b[0m\u001b[0;34m:\u001b[0m\u001b[0;34m\u001b[0m\u001b[0;34m\u001b[0m\u001b[0m\n",
      "\u001b[0;32m/opt/anaconda3/lib/python3.7/site-packages/zmq/sugar/socket.py\u001b[0m in \u001b[0;36mrecv_multipart\u001b[0;34m(self, flags, copy, track)\u001b[0m\n\u001b[1;32m    474\u001b[0m         \"\"\"\n\u001b[0;32m--> 475\u001b[0;31m         \u001b[0mparts\u001b[0m \u001b[0;34m=\u001b[0m \u001b[0;34m[\u001b[0m\u001b[0mself\u001b[0m\u001b[0;34m.\u001b[0m\u001b[0mrecv\u001b[0m\u001b[0;34m(\u001b[0m\u001b[0mflags\u001b[0m\u001b[0;34m,\u001b[0m \u001b[0mcopy\u001b[0m\u001b[0;34m=\u001b[0m\u001b[0mcopy\u001b[0m\u001b[0;34m,\u001b[0m \u001b[0mtrack\u001b[0m\u001b[0;34m=\u001b[0m\u001b[0mtrack\u001b[0m\u001b[0;34m)\u001b[0m\u001b[0;34m]\u001b[0m\u001b[0;34m\u001b[0m\u001b[0;34m\u001b[0m\u001b[0m\n\u001b[0m\u001b[1;32m    476\u001b[0m         \u001b[0;31m# have first part already, only loop while more to receive\u001b[0m\u001b[0;34m\u001b[0m\u001b[0;34m\u001b[0m\u001b[0;34m\u001b[0m\u001b[0m\n",
      "\u001b[0;32mzmq/backend/cython/socket.pyx\u001b[0m in \u001b[0;36mzmq.backend.cython.socket.Socket.recv\u001b[0;34m()\u001b[0m\n",
      "\u001b[0;32mzmq/backend/cython/socket.pyx\u001b[0m in \u001b[0;36mzmq.backend.cython.socket.Socket.recv\u001b[0;34m()\u001b[0m\n",
      "\u001b[0;32mzmq/backend/cython/socket.pyx\u001b[0m in \u001b[0;36mzmq.backend.cython.socket._recv_copy\u001b[0;34m()\u001b[0m\n",
      "\u001b[0;32m/opt/anaconda3/lib/python3.7/site-packages/zmq/backend/cython/checkrc.pxd\u001b[0m in \u001b[0;36mzmq.backend.cython.checkrc._check_rc\u001b[0;34m()\u001b[0m\n",
      "\u001b[0;31mKeyboardInterrupt\u001b[0m: ",
      "\nDuring handling of the above exception, another exception occurred:\n",
      "\u001b[0;31mKeyboardInterrupt\u001b[0m                         Traceback (most recent call last)",
      "\u001b[0;32m<ipython-input-83-7d649ff16f98>\u001b[0m in \u001b[0;36m<module>\u001b[0;34m\u001b[0m\n\u001b[1;32m     54\u001b[0m                       \u001b[0mwhole_food_bag\u001b[0m\u001b[0;34m.\u001b[0m\u001b[0mshowShoppingBag\u001b[0m\u001b[0;34m(\u001b[0m\u001b[0;34m)\u001b[0m\u001b[0;34m\u001b[0m\u001b[0;34m\u001b[0m\u001b[0m\n\u001b[1;32m     55\u001b[0m                       \u001b[0;32mbreak\u001b[0m\u001b[0;34m\u001b[0m\u001b[0;34m\u001b[0m\u001b[0m\n\u001b[0;32m---> 56\u001b[0;31m \u001b[0mrun\u001b[0m\u001b[0;34m(\u001b[0m\u001b[0;34m)\u001b[0m\u001b[0;34m\u001b[0m\u001b[0;34m\u001b[0m\u001b[0m\n\u001b[0m",
      "\u001b[0;32m<ipython-input-83-7d649ff16f98>\u001b[0m in \u001b[0;36mrun\u001b[0;34m()\u001b[0m\n\u001b[1;32m     45\u001b[0m     \u001b[0mwhole_food_bag\u001b[0m \u001b[0;34m=\u001b[0m \u001b[0mShoppingBag\u001b[0m\u001b[0;34m(\u001b[0m\u001b[0;36m2\u001b[0m\u001b[0;34m,\u001b[0m\u001b[0;36m10\u001b[0m\u001b[0;34m,\u001b[0m\u001b[0;34m[\u001b[0m\u001b[0;34m]\u001b[0m\u001b[0;34m)\u001b[0m\u001b[0;34m\u001b[0m\u001b[0;34m\u001b[0m\u001b[0m\n\u001b[1;32m     46\u001b[0m     \u001b[0;32mwhile\u001b[0m \u001b[0;32mTrue\u001b[0m\u001b[0;34m:\u001b[0m\u001b[0;34m\u001b[0m\u001b[0;34m\u001b[0m\u001b[0m\n\u001b[0;32m---> 47\u001b[0;31m                   \u001b[0mresponse\u001b[0m \u001b[0;34m=\u001b[0m \u001b[0minput\u001b[0m\u001b[0;34m(\u001b[0m\u001b[0;34m\"What do you want to do? Add/Show or QUit?\"\u001b[0m\u001b[0;34m)\u001b[0m\u001b[0;34m\u001b[0m\u001b[0;34m\u001b[0m\u001b[0m\n\u001b[0m\u001b[1;32m     48\u001b[0m                   \u001b[0;32mif\u001b[0m \u001b[0mresponse\u001b[0m\u001b[0;34m.\u001b[0m\u001b[0mlower\u001b[0m\u001b[0;34m(\u001b[0m\u001b[0;34m)\u001b[0m \u001b[0;34m==\u001b[0m \u001b[0;34m'add'\u001b[0m\u001b[0;34m:\u001b[0m\u001b[0;34m\u001b[0m\u001b[0;34m\u001b[0m\u001b[0m\n\u001b[1;32m     49\u001b[0m                       \u001b[0mwhole_food_bag\u001b[0m\u001b[0;34m.\u001b[0m\u001b[0maddToShoppingBag\u001b[0m\u001b[0;34m(\u001b[0m\u001b[0;34m)\u001b[0m\u001b[0;34m\u001b[0m\u001b[0;34m\u001b[0m\u001b[0m\n",
      "\u001b[0;32m/opt/anaconda3/lib/python3.7/site-packages/ipykernel/kernelbase.py\u001b[0m in \u001b[0;36mraw_input\u001b[0;34m(self, prompt)\u001b[0m\n\u001b[1;32m    857\u001b[0m             \u001b[0mself\u001b[0m\u001b[0;34m.\u001b[0m\u001b[0m_parent_ident\u001b[0m\u001b[0;34m,\u001b[0m\u001b[0;34m\u001b[0m\u001b[0;34m\u001b[0m\u001b[0m\n\u001b[1;32m    858\u001b[0m             \u001b[0mself\u001b[0m\u001b[0;34m.\u001b[0m\u001b[0m_parent_header\u001b[0m\u001b[0;34m,\u001b[0m\u001b[0;34m\u001b[0m\u001b[0;34m\u001b[0m\u001b[0m\n\u001b[0;32m--> 859\u001b[0;31m             \u001b[0mpassword\u001b[0m\u001b[0;34m=\u001b[0m\u001b[0;32mFalse\u001b[0m\u001b[0;34m,\u001b[0m\u001b[0;34m\u001b[0m\u001b[0;34m\u001b[0m\u001b[0m\n\u001b[0m\u001b[1;32m    860\u001b[0m         )\n\u001b[1;32m    861\u001b[0m \u001b[0;34m\u001b[0m\u001b[0m\n",
      "\u001b[0;32m/opt/anaconda3/lib/python3.7/site-packages/ipykernel/kernelbase.py\u001b[0m in \u001b[0;36m_input_request\u001b[0;34m(self, prompt, ident, parent, password)\u001b[0m\n\u001b[1;32m    887\u001b[0m             \u001b[0;32mexcept\u001b[0m \u001b[0mKeyboardInterrupt\u001b[0m\u001b[0;34m:\u001b[0m\u001b[0;34m\u001b[0m\u001b[0;34m\u001b[0m\u001b[0m\n\u001b[1;32m    888\u001b[0m                 \u001b[0;31m# re-raise KeyboardInterrupt, to truncate traceback\u001b[0m\u001b[0;34m\u001b[0m\u001b[0;34m\u001b[0m\u001b[0;34m\u001b[0m\u001b[0m\n\u001b[0;32m--> 889\u001b[0;31m                 \u001b[0;32mraise\u001b[0m \u001b[0mKeyboardInterrupt\u001b[0m\u001b[0;34m\u001b[0m\u001b[0;34m\u001b[0m\u001b[0m\n\u001b[0m\u001b[1;32m    890\u001b[0m             \u001b[0;32melse\u001b[0m\u001b[0;34m:\u001b[0m\u001b[0;34m\u001b[0m\u001b[0;34m\u001b[0m\u001b[0m\n\u001b[1;32m    891\u001b[0m                 \u001b[0;32mbreak\u001b[0m\u001b[0;34m\u001b[0m\u001b[0;34m\u001b[0m\u001b[0m\n",
      "\u001b[0;31mKeyboardInterrupt\u001b[0m: "
     ]
    }
   ],
   "source": [
    "class ShoppingBag():\n",
    "    def __init__(self,handles,capacity,items):\n",
    "        self.handles = handles\n",
    "        self.capacity = capacity\n",
    "        self.items = items\n",
    "        \n",
    "    \"\"\"\n",
    "        ShoppingBag will require 3 positional arguments:\n",
    "        handles: which expects to be integer\n",
    "        capacity: which expects to be integer\n",
    "        items: which expects to be a list - list CAN be empty\n",
    "    \"\"\"\n",
    "    # Method to show ShoppingBag\n",
    "    def showShoppingBag(self):\n",
    "        print(\"You have items in your bag!\")\n",
    "        for item in self.items:\n",
    "            print(item)\n",
    "\n",
    "    # Method to show the capacity of ShoppingBag\n",
    "    def showCapacity(self):\n",
    "        print(f\"Your capacity is {self.capacity}\")\n",
    "              \n",
    "    #Method to add to the shopping bag\n",
    "    def addToShoppingBag(self):\n",
    "              product = input(\"what do you wanna add?\")\n",
    "              self.items.append(product)\n",
    "\n",
    "    #Method for changing bag capacity\n",
    "    def changeBagCapacity(self,capacity):\n",
    "              \"\"\"changeBagCapacity assumes capacity will be an integer\"\"\"\n",
    "              self.capacity = capacity\n",
    "\n",
    "    # Method to auto increase that cap\n",
    "    def autoIncreaseCapacity(self):\n",
    "              if self.capacity == isinstance(self.capacity, str):\n",
    "                  print(\"Hey can't do that here buppy\")\n",
    "              else:\n",
    "                  self.capacity += 10\n",
    "                  \n",
    "                  \n",
    "                \n",
    "                \n",
    "                \n",
    "def run():\n",
    "    whole_food_bag = ShoppingBag(2,10,[])\n",
    "    while True:\n",
    "                  response = input(\"What do you want to do? Add/Show or QUit?\")\n",
    "                  if response.lower() == 'add':\n",
    "                      whole_food_bag.addToShoppingBag()\n",
    "                  if response.lower() == 'show':\n",
    "                      whole_food_bag.showShoppingBag()\n",
    "                  if response.lower() == 'quit':\n",
    "                      print('Here is your bag...')\n",
    "                      whole_food_bag.showShoppingBag()\n",
    "                      break\n",
    "run()                  "
   ]
  },
  {
   "cell_type": "markdown",
   "metadata": {},
   "source": [
    "##### Calling"
   ]
  },
  {
   "cell_type": "code",
   "execution_count": null,
   "metadata": {},
   "outputs": [],
   "source": [
    "# See Above"
   ]
  },
  {
   "cell_type": "markdown",
   "metadata": {},
   "source": [
    "##### Modifying an Attribute's Value Through a Method"
   ]
  },
  {
   "cell_type": "code",
   "execution_count": 76,
   "metadata": {},
   "outputs": [
    {
     "name": "stdout",
     "output_type": "stream",
     "text": [
      "Your capacity is 10\n",
      "Capacity AFTER the change...\n",
      "Your capacity is 20\n"
     ]
    }
   ],
   "source": [
    "whole_food_bag = ShoppingBag(2,10,[])\n",
    "whole_food_bag.showCapacity()\n",
    "print(\"Capacity AFTER the change...\")\n",
    "whole_food_bag.changeBagCapacity(20)\n",
    "whole_food_bag.showCapacity()"
   ]
  },
  {
   "cell_type": "markdown",
   "metadata": {},
   "source": [
    "##### Incrementing an Attribute's Value Through a Method"
   ]
  },
  {
   "cell_type": "code",
   "execution_count": 77,
   "metadata": {},
   "outputs": [
    {
     "name": "stdout",
     "output_type": "stream",
     "text": [
      "Your capacity is 20\n",
      "Capacity AFTER the increase...\n",
      "Your capacity is 30\n"
     ]
    }
   ],
   "source": [
    "whole_food_bag.showCapacity()\n",
    "print(\"Capacity AFTER the increase...\")\n",
    "whole_food_bag.autoIncreaseCapacity()\n",
    "whole_food_bag.showCapacity()"
   ]
  },
  {
   "cell_type": "markdown",
   "metadata": {},
   "source": [
    "##### In-Class Exercise #3 - Add a method that takes in three parameters of year, doors and seats and prints out a formatted print statement with make, model, year, seats, and doors"
   ]
  },
  {
   "cell_type": "code",
   "execution_count": 82,
   "metadata": {},
   "outputs": [
    {
     "name": "stdout",
     "output_type": "stream",
     "text": [
      "This car is from 2019 and is a Ford Explorer and has 4 doors and 5 seats \n"
     ]
    }
   ],
   "source": [
    "# Create class with 2 paramters inside of the __init__ which are make and model\n",
    "\n",
    "# Inside of the Car class create a method that has 4 parameter in total (self,year,door,seats)\n",
    "\n",
    "# Output: This car is from 2019 and is a Ford Expolorer and has 4 doors and 5 seats\n",
    "\n",
    "class Car():\n",
    "    def __init__(self,make,model):\n",
    "        self.make = make\n",
    "        self.model = model\n",
    "    \n",
    "    def carBuild(self,year,door,seats):\n",
    "        if door == isinstance(door, str) or year == isinstance(year, str) or seats == isinstance(seats, str):\n",
    "            print(\"try again with a number!\")\n",
    "        else:\n",
    "            print(f'This car is from {year} and is a {self.make} {self.model} and has {door} doors and {seats} seats ')\n",
    "\n",
    "ford_exp = Car('Ford', 'Explorer')\n",
    "ford_exp.carBuild(2019,4,5)\n",
    "        "
   ]
  },
  {
   "cell_type": "markdown",
   "metadata": {},
   "source": [
    "## Inheritance <br>\n",
    "<p>You can create a child-parent relationship between two classes by using inheritance. What this allows you to do is have overriding methods, but also inherit traits from the parent class. Think of it as an actual parent and child, the child will inherit the parent's genes, as will the classes in OOP</p>"
   ]
  },
  {
   "cell_type": "markdown",
   "metadata": {},
   "source": [
    "##### Syntax for Inheriting from a Parent Class"
   ]
  },
  {
   "cell_type": "code",
   "execution_count": 95,
   "metadata": {},
   "outputs": [
    {
     "name": "stdout",
     "output_type": "stream",
     "text": [
      "This dog is Lassie\n",
      "Some Generic Sound\n",
      "Purr\n"
     ]
    }
   ],
   "source": [
    "class Animal():\n",
    "    acceleration = 9.8\n",
    "    \n",
    "    def __init__(self,name,species,legs = 4):\n",
    "        self.name = name\n",
    "        self.species = species\n",
    "        self.legs = legs\n",
    "    def makeSound(self):\n",
    "        print(\"Some Generic Sound\")\n",
    "#inheritance without override        \n",
    "class Dog(Animal):\n",
    "    speed = 15\n",
    "    \n",
    "    def printInfo(self):\n",
    "        print(f\"This dog is {self.name}\")\n",
    "        \n",
    "#Inheritance with Override\n",
    "\n",
    "class Cat(Animal):\n",
    "    eye_color = 'brown'\n",
    "    \n",
    "    def __init__(self,name,species,color,legs=4):\n",
    "        Animal.__init__(self,name,species)\n",
    "        self.color = color\n",
    "    #Method override\n",
    "    def makeSound(self):\n",
    "        print(\"Purr\")\n",
    "        \n",
    "lassie = Dog('Lassie','Dog')\n",
    "\n",
    "lassie.printInfo()\n",
    "\n",
    "sphynx = Cat('Sphynx',\"cat\",\"brown\")\n",
    "sphynx.name\n",
    "\n",
    "\n",
    "generic_animal = Animal('Generic', 'Random_species')\n",
    "generic_animal.makeSound()\n",
    "sphynx.makeSound()"
   ]
  },
  {
   "cell_type": "markdown",
   "metadata": {},
   "source": [
    "##### The \\__init\\__() Method for a Child Class - super()"
   ]
  },
  {
   "cell_type": "code",
   "execution_count": 108,
   "metadata": {
    "scrolled": true
   },
   "outputs": [
    {
     "name": "stdout",
     "output_type": "stream",
     "text": [
      "This bird is red\n"
     ]
    }
   ],
   "source": [
    "class Bird(Animal):\n",
    "    soeed = '25mph'\n",
    "    \n",
    "    def __init__(self,name,species,color,legs=4):\n",
    "        super().__init__(name,species,legs)\n",
    "        self.color = color\n",
    "        \n",
    "    def printInfo(self):\n",
    "        print(f\"This bird is {self.color}\")\n",
    "              \n",
    "polly = Bird(\"polly\",\"bird\",\"red\")\n",
    "polly.printInfo()\n",
    "\n"
   ]
  },
  {
   "cell_type": "markdown",
   "metadata": {},
   "source": [
    "##### Defining Attributes and Methods for the Child Class"
   ]
  },
  {
   "cell_type": "code",
   "execution_count": null,
   "metadata": {},
   "outputs": [],
   "source": [
    "# See Above"
   ]
  },
  {
   "cell_type": "markdown",
   "metadata": {},
   "source": [
    "##### Method Overriding"
   ]
  },
  {
   "cell_type": "code",
   "execution_count": null,
   "metadata": {},
   "outputs": [],
   "source": [
    "# See Above"
   ]
  },
  {
   "cell_type": "markdown",
   "metadata": {},
   "source": [
    "## Classes as Attributes <br>\n",
    "<p>Classes can also be used as attributes within another class. This is useful in situations where you need to keep variables locally stored, instead of globally stored.</p>"
   ]
  },
  {
   "cell_type": "code",
   "execution_count": 120,
   "metadata": {},
   "outputs": [
    {
     "name": "stdout",
     "output_type": "stream",
     "text": [
      "2020 Tesla Model X 7.8\n"
     ]
    }
   ],
   "source": [
    "class Battery():\n",
    "    volts = 7.8\n",
    "    \n",
    "    def __init__(self,cells):\n",
    "        self.cells = cells\n",
    "        \n",
    "class Car():\n",
    "    def __init__(self,year,make,model,battery):\n",
    "        self.year = year\n",
    "        self.make = make\n",
    "        self.model = model\n",
    "        self.battery = battery\n",
    "        \n",
    "    def printInfo(self):\n",
    "        print(self.year,self.make,self.model,self.battery.volts)\n",
    "        \n",
    "batt = Battery(20)\n",
    "\n",
    "tesla = Car(2020,'Tesla','Model X', batt)\n",
    "\n",
    "tesla.printInfo()"
   ]
  },
  {
   "cell_type": "markdown",
   "metadata": {},
   "source": [
    "# Exercises"
   ]
  },
  {
   "cell_type": "markdown",
   "metadata": {},
   "source": [
    "### Exercise 1 - Turn the shopping cart program from yesterday into an object-oriented program\n",
    "\n",
    "The comments in the cell below are there as a guide for thinking about the problem. However, if you feel a different way is best for you and your own thought process, please do what feels best for you by all means."
   ]
  },
  {
   "cell_type": "code",
   "execution_count": 138,
   "metadata": {},
   "outputs": [
    {
     "name": "stdout",
     "output_type": "stream",
     "text": [
      "Thank you for shopping!\n",
      "bread\n",
      "butter\n",
      "eggs\n",
      "ham\n"
     ]
    }
   ],
   "source": [
    "# Create a class called cart that retains items and has methods to add, remove, and show\n",
    "from IPython.display import clear_output\n",
    "class Cart():\n",
    "    def __init__(self,items):\n",
    "        self.items = items\n",
    "    \n",
    "    def showCart(self):\n",
    "        clear_output()\n",
    "        print('Here are the items in your cart...')\n",
    "        for item in self.items:\n",
    "            print(item)\n",
    "    \n",
    "    def addItems(self):\n",
    "        clear_output()\n",
    "        products = input(\"What product would you like to add?\")\n",
    "        self.items.append(products)\n",
    "    \n",
    "    def deleteItems(self):\n",
    "        clear_output()\n",
    "        del_prod = input(\"What product would you like to remove?\")\n",
    "        self.items.remove(del_prod)\n",
    "        \n",
    "    def quitCart(self):\n",
    "        clear_output()\n",
    "        print('Thank you for shopping!')\n",
    "        for item in self.items:\n",
    "            print(item)\n",
    "    \n",
    "    \n",
    "def runCart():\n",
    "    new_cart = Cart([])\n",
    "    while True:\n",
    "        response = input('What would you like to do?(Add/Delete/Show or Quit?')\n",
    "        if response.lower() == 'add':\n",
    "            new_cart.addItems()\n",
    "        if response.lower() == 'delete':\n",
    "            new_cart.deleteItems()\n",
    "        if response.lower() == 'show':\n",
    "            new_cart.showCart()\n",
    "        if response.lower() == 'quit':\n",
    "            new_cart.quitCart()\n",
    "            break\n",
    "            \n",
    "        \n",
    "runCart()        \n",
    "    \n",
    "    \n",
    "        \n",
    "    "
   ]
  },
  {
   "cell_type": "markdown",
   "metadata": {},
   "source": [
    "### Exercise 2 - Create a class 'Ford' that inherits from 'Car' class and initialize it as a Blue Ford Explorer with 4 wheels using the super() method, add a method to car which prints 'this is a car' and create an overriding method in class Ford that prints the information on the car"
   ]
  },
  {
   "cell_type": "code",
   "execution_count": 134,
   "metadata": {},
   "outputs": [
    {
     "name": "stdout",
     "output_type": "stream",
     "text": [
      "This is a Ford Explorer with 4 wheels\n",
      "This is a Ford Bronco with 4 wheels\n"
     ]
    }
   ],
   "source": [
    "# Create Parent Class called Car - That will be inherited by child Class called Ford\n",
    "# Add a method to the Car class that prints \"This is a car\"\n",
    "# Inside of the Child Class initialize the the inherited info using super()\n",
    "# Override the above method with the information of the Ford Car\n",
    "\n",
    "class Car():\n",
    "    def __init__(self,make,model,wheels):\n",
    "        self.make = make\n",
    "        self.model = model\n",
    "        self.wheels = wheels\n",
    "    \n",
    "    def printInfo(self):\n",
    "        print('This is a car.')\n",
    "\n",
    "\n",
    "class Ford(Car):\n",
    "    def __init__(self,make,model,wheels,color):\n",
    "        super().__init__(make,model,wheels)\n",
    "        self.color = 'color'\n",
    "        \n",
    "    def printInfo(self):\n",
    "        print(f\"This is a {self.make} {self.model} with {self.wheels} wheels\")\n",
    "        \n",
    "ford_explorer = Ford('Ford','Explorer',4,'Blue')\n",
    "\n",
    "ford_bronco = Ford('Ford','Bronco',4,'White')\n",
    "\n",
    "ford_explorer.printInfo()\n",
    "ford_bronco.printInfo()"
   ]
  },
  {
   "cell_type": "code",
   "execution_count": null,
   "metadata": {},
   "outputs": [],
   "source": []
  }
 ],
 "metadata": {
  "kernelspec": {
   "display_name": "Python 3",
   "language": "python",
   "name": "python3"
  }
 },
 "nbformat": 4,
 "nbformat_minor": 2
}
